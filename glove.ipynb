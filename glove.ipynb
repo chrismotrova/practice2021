{
 "cells": [
  {
   "cell_type": "code",
   "execution_count": 4,
   "metadata": {},
   "outputs": [
    {
     "name": "stdout",
     "output_type": "stream",
     "text": [
      "Requirement already satisfied: gensim in c:\\users\\user\\anaconda3\\lib\\site-packages (4.0.1)\n",
      "Requirement already satisfied: numpy>=1.11.3 in c:\\users\\user\\anaconda3\\lib\\site-packages (from gensim) (1.19.2)\n",
      "Note: you may need to restart the kernel to use updated packages.Requirement already satisfied: smart-open>=1.8.1 in c:\\users\\user\\anaconda3\\lib\\site-packages (from gensim) (5.1.0)\n",
      "Requirement already satisfied: scipy>=0.18.1 in c:\\users\\user\\anaconda3\\lib\\site-packages (from gensim) (1.5.2)\n",
      "Requirement already satisfied: Cython==0.29.21 in c:\\users\\user\\anaconda3\\lib\\site-packages (from gensim) (0.29.21)\n",
      "\n"
     ]
    }
   ],
   "source": [
    "pip install gensim"
   ]
  },
  {
   "cell_type": "code",
   "execution_count": 22,
   "metadata": {},
   "outputs": [
    {
     "name": "stdout",
     "output_type": "stream",
     "text": [
      "Collecting glove-python-binary\n",
      "  Downloading glove_python_binary-0.2.0-cp38-cp38-win_amd64.whl (244 kB)\n",
      "Requirement already satisfied: scipy in c:\\users\\user\\anaconda3\\lib\\site-packages (from glove-python-binary) (1.5.2)\n",
      "Requirement already satisfied: numpy in c:\\users\\user\\anaconda3\\lib\\site-packages (from glove-python-binary) (1.19.2)\n",
      "Installing collected packages: glove-python-binary\n",
      "Successfully installed glove-python-binary-0.2.0\n",
      "Note: you may need to restart the kernel to use updated packages.\n"
     ]
    }
   ],
   "source": [
    "pip install glove-python-binary"
   ]
  },
  {
   "cell_type": "code",
   "execution_count": 23,
   "metadata": {},
   "outputs": [],
   "source": [
    "import os\n",
    "import gensim\n",
    "from gensim import models\n",
    "from glove import Corpus, Glove\n",
    "from gensim.models import Phrases"
   ]
  },
  {
   "cell_type": "code",
   "execution_count": 16,
   "metadata": {},
   "outputs": [
    {
     "name": "stdout",
     "output_type": "stream",
     "text": [
      "Database opened successfully\n"
     ]
    }
   ],
   "source": [
    "import psycopg2\n",
    "\n",
    "con = psycopg2.connect(\n",
    "  database=\"db_dsa\", \n",
    "  user=\"udsa\", \n",
    "  password=\"P@ssword2021\", \n",
    "  host=\"92.242.58.173\", \n",
    "  port=\"1984\"\n",
    ")\n",
    "\n",
    "print(\"Database opened successfully\")"
   ]
  },
  {
   "cell_type": "code",
   "execution_count": 17,
   "metadata": {},
   "outputs": [
    {
     "data": {
      "text/html": [
       "<div>\n",
       "<style scoped>\n",
       "    .dataframe tbody tr th:only-of-type {\n",
       "        vertical-align: middle;\n",
       "    }\n",
       "\n",
       "    .dataframe tbody tr th {\n",
       "        vertical-align: top;\n",
       "    }\n",
       "\n",
       "    .dataframe thead th {\n",
       "        text-align: right;\n",
       "    }\n",
       "</style>\n",
       "<table border=\"1\" class=\"dataframe\">\n",
       "  <thead>\n",
       "    <tr style=\"text-align: right;\">\n",
       "      <th></th>\n",
       "      <th>ID</th>\n",
       "      <th>NUMBER</th>\n",
       "      <th>VACANCIES</th>\n",
       "      <th>NAME</th>\n",
       "      <th>TYPE</th>\n",
       "      <th>TYPEDESC</th>\n",
       "      <th>TYPEID</th>\n",
       "      <th>STATUSID</th>\n",
       "      <th>STATUSDESC</th>\n",
       "      <th>DIRECTIONHEAD</th>\n",
       "      <th>HEAD</th>\n",
       "      <th>DATACREATED</th>\n",
       "      <th>FACULTYID</th>\n",
       "    </tr>\n",
       "  </thead>\n",
       "  <tbody>\n",
       "    <tr>\n",
       "      <th>0</th>\n",
       "      <td>205</td>\n",
       "      <td>NaN</td>\n",
       "      <td>2</td>\n",
       "      <td>Численное и аналитическое исследование эффекта...</td>\n",
       "      <td>nir</td>\n",
       "      <td>НИР</td>\n",
       "      <td>1</td>\n",
       "      <td>1</td>\n",
       "      <td>Готов к работе</td>\n",
       "      <td>Данилов Владимир Григорьевич</td>\n",
       "      <td>Данилов Владимир Григорьевич</td>\n",
       "      <td>08.05.2020 21:25:02</td>\n",
       "      <td>None</td>\n",
       "    </tr>\n",
       "    <tr>\n",
       "      <th>1</th>\n",
       "      <td>208</td>\n",
       "      <td>NaN</td>\n",
       "      <td>3</td>\n",
       "      <td>Исследование механизмов образования, способов ...</td>\n",
       "      <td>nir</td>\n",
       "      <td>НИР</td>\n",
       "      <td>1</td>\n",
       "      <td>1</td>\n",
       "      <td>Готов к работе</td>\n",
       "      <td></td>\n",
       "      <td>Грачев Николай</td>\n",
       "      <td>11.05.2020 14:07:40</td>\n",
       "      <td>None</td>\n",
       "    </tr>\n",
       "    <tr>\n",
       "      <th>2</th>\n",
       "      <td>215</td>\n",
       "      <td>NaN</td>\n",
       "      <td>1</td>\n",
       "      <td>Разработка моста переменного тока</td>\n",
       "      <td>soft-hard</td>\n",
       "      <td>Прогр-аппарат.</td>\n",
       "      <td>3</td>\n",
       "      <td>1</td>\n",
       "      <td>Готов к работе</td>\n",
       "      <td></td>\n",
       "      <td>Балакин Станислав</td>\n",
       "      <td>13.05.2020 16:41:39</td>\n",
       "      <td>None</td>\n",
       "    </tr>\n",
       "    <tr>\n",
       "      <th>3</th>\n",
       "      <td>216</td>\n",
       "      <td>NaN</td>\n",
       "      <td>3</td>\n",
       "      <td>Разработка нательных антенн и излучателей для ...</td>\n",
       "      <td>soft-hard</td>\n",
       "      <td>Прогр-аппарат.</td>\n",
       "      <td>3</td>\n",
       "      <td>1</td>\n",
       "      <td>Готов к работе</td>\n",
       "      <td>Елизаров Андрей Альбертович</td>\n",
       "      <td>Скуридин Андрей</td>\n",
       "      <td>13.05.2020 17:00:19</td>\n",
       "      <td>None</td>\n",
       "    </tr>\n",
       "    <tr>\n",
       "      <th>4</th>\n",
       "      <td>218</td>\n",
       "      <td>NaN</td>\n",
       "      <td>0</td>\n",
       "      <td>Разработка глоссария физических терминов для м...</td>\n",
       "      <td>soft</td>\n",
       "      <td>Прогр.</td>\n",
       "      <td>2</td>\n",
       "      <td>1</td>\n",
       "      <td>Готов к работе</td>\n",
       "      <td></td>\n",
       "      <td>Гузенкова Александра Сергеевна</td>\n",
       "      <td>13.05.2020 19:38:43</td>\n",
       "      <td>None</td>\n",
       "    </tr>\n",
       "  </tbody>\n",
       "</table>\n",
       "</div>"
      ],
      "text/plain": [
       "    ID  NUMBER  VACANCIES                                               NAME  \\\n",
       "0  205     NaN          2  Численное и аналитическое исследование эффекта...   \n",
       "1  208     NaN          3  Исследование механизмов образования, способов ...   \n",
       "2  215     NaN          1                  Разработка моста переменного тока   \n",
       "3  216     NaN          3  Разработка нательных антенн и излучателей для ...   \n",
       "4  218     NaN          0  Разработка глоссария физических терминов для м...   \n",
       "\n",
       "        TYPE        TYPEDESC  TYPEID  STATUSID      STATUSDESC  \\\n",
       "0        nir             НИР       1         1  Готов к работе   \n",
       "1        nir             НИР       1         1  Готов к работе   \n",
       "2  soft-hard  Прогр-аппарат.       3         1  Готов к работе   \n",
       "3  soft-hard  Прогр-аппарат.       3         1  Готов к работе   \n",
       "4       soft          Прогр.       2         1  Готов к работе   \n",
       "\n",
       "                  DIRECTIONHEAD                            HEAD  \\\n",
       "0  Данилов Владимир Григорьевич    Данилов Владимир Григорьевич   \n",
       "1                                                Грачев Николай   \n",
       "2                                             Балакин Станислав   \n",
       "3   Елизаров Андрей Альбертович                 Скуридин Андрей   \n",
       "4                                Гузенкова Александра Сергеевна   \n",
       "\n",
       "           DATACREATED FACULTYID  \n",
       "0  08.05.2020 21:25:02      None  \n",
       "1  11.05.2020 14:07:40      None  \n",
       "2  13.05.2020 16:41:39      None  \n",
       "3  13.05.2020 17:00:19      None  \n",
       "4  13.05.2020 19:38:43      None  "
      ]
     },
     "execution_count": 17,
     "metadata": {},
     "output_type": "execute_result"
    }
   ],
   "source": [
    "import pandas as pd\n",
    "cur = con.cursor()\n",
    "cur.execute(\"SELECT * from PROJECTS\")\n",
    "rows = cur.fetchall()\n",
    "column_names=[\"ID\",\"NUMBER\",\"VACANCIES\",\"NAME\",\"TYPE\",\"TYPEDESC\",\"TYPEID\",\"STATUSID\", \"STATUSDESC\",\"DIRECTIONHEAD\",\"HEAD\",\"DATACREATED\",\"FACULTYID\"]\n",
    "df = pd.DataFrame(rows, columns=column_names)\n",
    "df.head()"
   ]
  },
  {
   "cell_type": "code",
   "execution_count": 18,
   "metadata": {},
   "outputs": [
    {
     "data": {
      "text/plain": [
       "['Численное и аналитическое исследование эффекта Саффмана-Тейлора']"
      ]
     },
     "execution_count": 18,
     "metadata": {},
     "output_type": "execute_result"
    }
   ],
   "source": [
    "df1 = df[['NAME']]\n",
    "df2 = df1.apply(lambda x: ';'.join(x.astype(str)), axis=1)\n",
    "df_clean = pd.DataFrame({'clean': df2})\n",
    "sent = [row.split(';') for row in df_clean['clean']]\n",
    "sent[0]"
   ]
  },
  {
   "cell_type": "code",
   "execution_count": 26,
   "metadata": {},
   "outputs": [],
   "source": [
    "corpus = Corpus()"
   ]
  },
  {
   "cell_type": "code",
   "execution_count": 30,
   "metadata": {},
   "outputs": [],
   "source": [
    "corpus.fit(sent, window=10)"
   ]
  },
  {
   "cell_type": "code",
   "execution_count": 31,
   "metadata": {},
   "outputs": [],
   "source": [
    "glove = Glove(no_components=5, learning_rate=0.05)"
   ]
  },
  {
   "cell_type": "code",
   "execution_count": 32,
   "metadata": {},
   "outputs": [
    {
     "name": "stdout",
     "output_type": "stream",
     "text": [
      "Performing 30 training epochs with 4 threads\n",
      "Epoch 0\n",
      "Epoch 1\n",
      "Epoch 2\n",
      "Epoch 3\n",
      "Epoch 4\n",
      "Epoch 5\n",
      "Epoch 6\n",
      "Epoch 7\n",
      "Epoch 8\n",
      "Epoch 9\n",
      "Epoch 10\n",
      "Epoch 11\n",
      "Epoch 12\n",
      "Epoch 13\n",
      "Epoch 14\n",
      "Epoch 15\n",
      "Epoch 16\n",
      "Epoch 17\n",
      "Epoch 18\n",
      "Epoch 19\n",
      "Epoch 20\n",
      "Epoch 21\n",
      "Epoch 22\n",
      "Epoch 23\n",
      "Epoch 24\n",
      "Epoch 25\n",
      "Epoch 26\n",
      "Epoch 27\n",
      "Epoch 28\n",
      "Epoch 29\n"
     ]
    }
   ],
   "source": [
    "glove.fit(corpus.matrix, epochs=30, no_threads=4, verbose=True)"
   ]
  },
  {
   "cell_type": "code",
   "execution_count": 33,
   "metadata": {},
   "outputs": [],
   "source": [
    "glove.add_dictionary(corpus.dictionary)"
   ]
  },
  {
   "cell_type": "code",
   "execution_count": 34,
   "metadata": {},
   "outputs": [],
   "source": [
    "glove.save('glove.model')"
   ]
  },
  {
   "cell_type": "code",
   "execution_count": 36,
   "metadata": {},
   "outputs": [
    {
     "name": "stdout",
     "output_type": "stream",
     "text": [
      "[-0.09644775 -0.02297233 -0.02182635 -0.01548395 -0.02085122]\n"
     ]
    }
   ],
   "source": [
    "print (glove.word_vectors[glove.dictionary['Численное и аналитическое исследование эффекта Саффмана-Тейлора']])"
   ]
  },
  {
   "cell_type": "code",
   "execution_count": 38,
   "metadata": {},
   "outputs": [
    {
     "data": {
      "text/plain": [
       "[('Монитор КПЭ', 0.9844604444973525),\n",
       " ('Разработка интерактивной энциклопедии на основе физической модели Земли с применением технологий AR',\n",
       "  0.9530588402455038),\n",
       " ('Приложение для микробизнеса — персонализированные рассылки',\n",
       "  0.9513876981370887),\n",
       " ('Облачный медиаархив', 0.8361731364761773)]"
      ]
     },
     "execution_count": 38,
     "metadata": {},
     "output_type": "execute_result"
    }
   ],
   "source": [
    "glove.most_similar('Численное и аналитическое исследование эффекта Саффмана-Тейлора', number=5)"
   ]
  },
  {
   "cell_type": "code",
   "execution_count": null,
   "metadata": {},
   "outputs": [],
   "source": []
  }
 ],
 "metadata": {
  "kernelspec": {
   "display_name": "Python 3",
   "language": "python",
   "name": "python3"
  },
  "language_info": {
   "codemirror_mode": {
    "name": "ipython",
    "version": 3
   },
   "file_extension": ".py",
   "mimetype": "text/x-python",
   "name": "python",
   "nbconvert_exporter": "python",
   "pygments_lexer": "ipython3",
   "version": "3.8.5"
  }
 },
 "nbformat": 4,
 "nbformat_minor": 4
}
